{
 "cells": [
  {
   "cell_type": "markdown",
   "id": "94f5e04d",
   "metadata": {},
   "source": [
    "# INIT"
   ]
  },
  {
   "cell_type": "code",
   "execution_count": 72,
   "id": "426345d5",
   "metadata": {},
   "outputs": [],
   "source": [
    "%matplotlib inline\n",
    "import math\n",
    "import numpy as np\n",
    "import pandas as pd\n",
    "import scipy.stats as stats\n",
    "import matplotlib.pyplot as plt\n",
    "import seaborn as sns\n"
   ]
  },
  {
   "cell_type": "code",
   "execution_count": 73,
   "id": "aafec447",
   "metadata": {},
   "outputs": [],
   "source": [
    "raw_data = \"./raw_data/\"\n",
    "raw_artists = pd.read_csv(f'{raw_data}raw_artists.csv', sep=';', index_col=0)\n",
    "raw_tracks = pd.read_csv(f'{raw_data}raw_tracks.csv', sep=',', index_col=0)"
   ]
  },
  {
   "cell_type": "code",
   "execution_count": 74,
   "id": "f68ad344",
   "metadata": {},
   "outputs": [],
   "source": [
    "data = \"./data/\"\n",
    "artists = pd.read_csv(f'{data}artists.csv', sep=';', index_col=0)\n",
    "tracks = pd.read_csv(f'{data}tracks.csv', sep=',', index_col=0)"
   ]
  },
  {
   "cell_type": "markdown",
   "id": "7a9215a6",
   "metadata": {},
   "source": [
    "# DATA UNDERSTANDING ARTISTS"
   ]
  },
  {
   "cell_type": "markdown",
   "id": "0c1250b4",
   "metadata": {},
   "source": [
    "## Check of data values validity and missing values"
   ]
  },
  {
   "cell_type": "code",
   "execution_count": 75,
   "id": "9d4a0602",
   "metadata": {},
   "outputs": [
    {
     "name": "stdout",
     "output_type": "stream",
     "text": [
      "                dtype  unique_values  missing_values  missing_percent\n",
      "active_end    float64              0             104       100.000000\n",
      "active_start   object             24              54        51.923077\n",
      "region         object             13              36        34.615385\n",
      "province       object             26              34        32.692308\n",
      "country        object              1              34        32.692308\n",
      "nationality    object              2              33        31.730769\n",
      "latitude      float64             40              32        30.769231\n",
      "longitude     float64             40              32        30.769231\n",
      "birth_place    object             40              32        30.769231\n",
      "birth_date     object             73              31        29.807692\n",
      "description    object             69              18        17.307692\n",
      "gender         object              2               0         0.000000\n",
      "name           object            104               0         0.000000\n",
      "We can see that active_end is missing in all rows, so we can drop this column.\n",
      "Active start can be imputed based on oldest track year per artist.\n",
      "Region and province can be imputed using birth place but will add some noise.\n",
      "Nationality can ne set to Italia for every one.\n",
      " longitude and latitude can be droipped as they don't provide meaningfull information.\n",
      "Missing birth places and dates must be found by external means.\n",
      "description can be useful for identifying groups.\n",
      " gender and name don't miss any values and don't present strange ones.\n",
      "\n"
     ]
    }
   ],
   "source": [
    "# General Information about the original dataset\n",
    "summary = pd.DataFrame({\n",
    "    'dtype': raw_artists.dtypes,\n",
    "    'unique_values': raw_artists.nunique(),\n",
    "    'missing_values': raw_artists.isna().sum(),\n",
    "    'missing_percent': raw_artists.isna().mean() * 100\n",
    "})\n",
    "# Ordina il riepilogo per numero decrescente di valori mancanti\n",
    "summary = summary.sort_values(by='missing_values', ascending=False)\n",
    "print(summary)\n",
    "\n",
    "print(\"We can see that active_end is missing in all rows, so we can drop this column.\\nActive start can be imputed based on oldest track year per artist.\\nRegion and province can be imputed using birth place but will add some noise.\\nNationality can ne set to Italia for every one.\\n longitude and latitude can be droipped as they don't provide meaningfull information.\\nMissing birth places and dates must be found by external means.\\ndescription can be useful for identifying groups.\\n gender and name don't miss any values and don't present strange ones.\\n\")"
   ]
  },
  {
   "cell_type": "code",
   "execution_count": 76,
   "id": "020e680a",
   "metadata": {},
   "outputs": [
    {
     "name": "stdout",
     "output_type": "stream",
     "text": [
      "we fill missng nationalities with 'Italia' as basically all of them are italians\n",
      "[nan 'Italia' 'Argentina']\n",
      "count         71\n",
      "unique         2\n",
      "top       Italia\n",
      "freq          70\n",
      "Name: nationality, dtype: object\n",
      "<class 'pandas.core.frame.DataFrame'>\n",
      "Index: 104 entries, ART82291002 to ART83631935\n",
      "Data columns (total 13 columns):\n",
      " #   Column        Non-Null Count  Dtype  \n",
      "---  ------        --------------  -----  \n",
      " 0   name          104 non-null    object \n",
      " 1   gender        104 non-null    object \n",
      " 2   birth_date    73 non-null     object \n",
      " 3   birth_place   72 non-null     object \n",
      " 4   nationality   104 non-null    object \n",
      " 5   description   86 non-null     object \n",
      " 6   active_start  50 non-null     object \n",
      " 7   active_end    0 non-null      float64\n",
      " 8   province      70 non-null     object \n",
      " 9   region        68 non-null     object \n",
      " 10  country       70 non-null     object \n",
      " 11  latitude      72 non-null     float64\n",
      " 12  longitude     72 non-null     object \n",
      "dtypes: float64(2), object(11)\n",
      "memory usage: 11.4+ KB\n"
     ]
    }
   ],
   "source": [
    "print(\"we fill missng nationalities with 'Italia' as basically all of them are italians\")\n",
    "print(artists[\"nationality\"].unique())\n",
    "print(artists[\"nationality\"].describe())\n",
    "artists[\"nationality\"] = artists[\"nationality\"].fillna(\"Italia\")\n",
    "\n",
    "artists.info()"
   ]
  },
  {
   "cell_type": "code",
   "execution_count": 77,
   "id": "df955892",
   "metadata": {},
   "outputs": [
    {
     "name": "stdout",
     "output_type": "stream",
     "text": [
      "count             73\n",
      "unique            73\n",
      "top       1990-07-11\n",
      "freq               1\n",
      "Name: birth_date, dtype: object\n",
      "We check if birth dates are in a plausible range of values and types\n",
      "count      72.000000\n",
      "mean     1986.875000\n",
      "std         8.903137\n",
      "min      1967.000000\n",
      "25%      1979.750000\n",
      "50%      1988.500000\n",
      "75%      1993.250000\n",
      "max      2002.000000\n",
      "Name: birth_date, dtype: float64\n"
     ]
    }
   ],
   "source": [
    "print(artists[\"birth_date\"].describe())\n",
    "print(\"We check if birth dates are in a plausible range of values and types\")\n",
    "birth_years = pd.to_datetime(artists['birth_date'], errors='coerce').dt.year\n",
    "print(birth_years.describe())"
   ]
  },
  {
   "cell_type": "code",
   "execution_count": 78,
   "id": "db1b1646",
   "metadata": {},
   "outputs": [
    {
     "name": "stdout",
     "output_type": "stream",
     "text": [
      "since we lost 1 birth date converting to year only, we check that line\n",
      "[nan '1990-07-11' '1975-08-08' '1983-02-05' '1973-08-03' '1973-10-09'\n",
      " '1998-04-20' '1998-11-07' '1982-12-21' '1983-07-11' '1993-11-05'\n",
      " '1975-05-15' '1997-05-16' '1989-11-14' '1985-12-13' '1985-03-16'\n",
      " '1993-11-29' '1976-10-17' '1989-10-15' '1989-12-27' '1969-08-18'\n",
      " '1989-11-03' '1988-11-04' '2000-03-23' '1993-05-21' '1982-04-01'\n",
      " '1979-03-30' '1990-05-14' '1997-01-01' '1979-10-02' '1972-08-05'\n",
      " '1982-12-20' '1979-02-25' '1970-06-20' '1994-08-22' '1981-01-07'\n",
      " '2002-01-16' '1988-07-25' '1992-09-12' '1991-08-16' '1979-05-22'\n",
      " '1993-11-30' '1976-09-11' '1986-12-01' '1991-11-19' '1986-10-17'\n",
      " '1967-10-07' '1980-12-29' '1997-07-22' '1993-02-11' '1979-12-15'\n",
      " '2001-02-19' '1973-04-26' '1989-07-19' '1994-04-19' '1994-11-21'\n",
      " '2002-04-29' '1998-01-30' '1989-07-20' '1995-09-18' '1984-06-29'\n",
      " '1992-12-07' '1980-11-17' '1987-12-10'\n",
      " 'http://www.wikidata.org/.well-known/genid/4111f32c49a23235b2e902dc8621d27c'\n",
      " '1987-01-24' '1994-02-21' '2001-03-17' '1999-09-26' '1991-05-17'\n",
      " '1975-09-06' '1979-10-21' '1985-08-28' '1996-08-06']\n",
      "We see a wrong value and set it to NaN, then check again\n",
      "[nan '1990-07-11' '1975-08-08' '1983-02-05' '1973-08-03' '1973-10-09'\n",
      " '1998-04-20' '1998-11-07' '1982-12-21' '1983-07-11' '1993-11-05'\n",
      " '1975-05-15' '1997-05-16' '1989-11-14' '1985-12-13' '1985-03-16'\n",
      " '1993-11-29' '1976-10-17' '1989-10-15' '1989-12-27' '1969-08-18'\n",
      " '1989-11-03' '1988-11-04' '2000-03-23' '1993-05-21' '1982-04-01'\n",
      " '1979-03-30' '1990-05-14' '1997-01-01' '1979-10-02' '1972-08-05'\n",
      " '1982-12-20' '1979-02-25' '1970-06-20' '1994-08-22' '1981-01-07'\n",
      " '2002-01-16' '1988-07-25' '1992-09-12' '1991-08-16' '1979-05-22'\n",
      " '1993-11-30' '1976-09-11' '1986-12-01' '1991-11-19' '1986-10-17'\n",
      " '1967-10-07' '1980-12-29' '1997-07-22' '1993-02-11' '1979-12-15'\n",
      " '2001-02-19' '1973-04-26' '1989-07-19' '1994-04-19' '1994-11-21'\n",
      " '2002-04-29' '1998-01-30' '1989-07-20' '1995-09-18' '1984-06-29'\n",
      " '1992-12-07' '1980-11-17' '1987-12-10' '1987-01-24' '1994-02-21'\n",
      " '2001-03-17' '1999-09-26' '1991-05-17' '1975-09-06' '1979-10-21'\n",
      " '1985-08-28' '1996-08-06']\n",
      "Now all values are either dates or NaN\n"
     ]
    }
   ],
   "source": [
    "print(\"since we lost 1 birth date converting to year only, we check that line\")\n",
    "print(artists[\"birth_date\"].unique())\n",
    "print(\"We see a wrong value and set it to NaN, then check again\")\n",
    "\n",
    "artists.loc[artists[\"birth_date\"] == 'http://www.wikidata.org/.well-known/genid/4111f32c49a23235b2e902dc8621d27c', [\"birth_date\"]] = [np.nan]\n",
    "\n",
    "print(artists[\"birth_date\"].unique())\n",
    "print(\"Now all values are either dates or NaN\")\n"
   ]
  },
  {
   "cell_type": "code",
   "execution_count": 79,
   "id": "3c6c84aa",
   "metadata": {},
   "outputs": [],
   "source": [
    "# print(\"We correct the birth date and place of shiva\")\n",
    "# print(artists[\"birth_date\"])\n",
    "\n",
    "# print(f\"artists birth date info: {artists[\"birth_date\"].describe()}\\n {artists[\"birth_date\"].dropna().unique()}\")\n",
    "\n",
    "# artists.loc[artists[\"name\"] == \"shiva\", [\"birth_date\",\"birth_place\"]] = [[\"1999-08-27\",\"Genova\"]]\n",
    "# print(artists.loc[artists[\"name\"] == \"shiva\",[\"name\",\"birth_date\",\"birth_place\"]])"
   ]
  },
  {
   "cell_type": "code",
   "execution_count": 80,
   "id": "bfa538b3",
   "metadata": {},
   "outputs": [
    {
     "name": "stdout",
     "output_type": "stream",
     "text": [
      "We do the same check for active_start\n",
      "count             50\n",
      "unique            24\n",
      "top       1996-01-01\n",
      "freq               6\n",
      "Name: active_start, dtype: object\n",
      "count      50.000000\n",
      "mean     2003.320000\n",
      "std         8.546249\n",
      "min      1988.000000\n",
      "25%      1996.000000\n",
      "50%      2004.000000\n",
      "75%      2011.000000\n",
      "max      2018.000000\n",
      "Name: active_start, dtype: float64\n",
      "No values lost converting to year only so all values are either dates or NaN, we proceed to check for invalid data\n",
      "Empty DataFrame\n",
      "Columns: [birth_date, active_start]\n",
      "Index: []\n",
      "There are no invalid rows where active_start is before birth_date\n"
     ]
    }
   ],
   "source": [
    "print(\"We do the same check for active_start\")\n",
    "print(artists[\"active_start\"].describe())\n",
    "active_start_years = pd.to_datetime(artists['active_start'], errors='coerce').dt.year\n",
    "print(active_start_years.describe())\n",
    "\n",
    "print(\"No values lost converting to year only so all values are either dates or NaN, we proceed to check for invalid data\")\n",
    "\n",
    "artists[\"birth_date\"] = pd.to_datetime(artists[\"birth_date\"], errors=\"coerce\")\n",
    "artists[\"active_start\"] = pd.to_datetime(artists[\"active_start\"], errors=\"coerce\")\n",
    "\n",
    "# Filter rows where active_start < birth_date\n",
    "invalid_rows = artists[artists[\"active_start\"] < artists[\"birth_date\"]]\n",
    "\n",
    "print(invalid_rows[[\"birth_date\", \"active_start\"]])\n",
    "\n",
    "print(\"There are no invalid rows where active_start is before birth_date\")"
   ]
  },
  {
   "cell_type": "code",
   "execution_count": 81,
   "id": "96a6c2b3",
   "metadata": {},
   "outputs": [
    {
     "name": "stdout",
     "output_type": "stream",
     "text": [
      "We drop usless columns: active_end, longitude, latitude\n"
     ]
    }
   ],
   "source": [
    "print(\"We drop usless columns: active_end, longitude, latitude\")\n",
    "artists = artists.drop(columns=['active_end', 'longitude', 'latitude'])"
   ]
  },
  {
   "cell_type": "code",
   "execution_count": 82,
   "id": "f81dece8",
   "metadata": {},
   "outputs": [
    {
     "name": "stdout",
     "output_type": "stream",
     "text": [
      "we check birth places, regions, provinces and countrys unique values to see if they make sense\n",
      "[nan 'Verona' 'Rho' 'Singapore' 'Milano' 'Sternatia' 'Salerno' 'Almería'\n",
      " 'Avellino' 'Nocera Inferiore' 'La Spezia' 'Bologna' 'Vimercate'\n",
      " 'Alpignano' 'Senigallia' 'Brescia' 'Torino' 'Roma' 'Napoli' 'Olbia'\n",
      " 'Firenze' 'Scampia' 'Vicenza' 'Grottaglie' 'Nicosia' 'Gallarate'\n",
      " 'Treviso' 'Desenzano del Garda' 'San Benedetto del Tronto' 'Scafati'\n",
      " 'Pieve Emanuele' 'San Siro' 'Grugliasco' 'Lodi' 'Sesto San Giovanni'\n",
      " 'Buenos Aires' 'Genova' 'Fiumicino' 'Padova' 'Reggio Calabria' 'Cagliari']\n",
      "[nan 'Verona' 'Milano' 'Lecce' 'Salerno' 'Genova' 'Avellino' 'La Spezia'\n",
      " 'Bologna' 'Monza e della Brianza' 'Torino' 'Ancona' 'Brescia' 'Roma'\n",
      " 'Napoli' 'Gallura' 'Firenze' 'Vicenza' 'Taranto' 'Enna' 'Varese'\n",
      " 'Treviso' 'Ascoli Piceno' 'Lodi' 'Padova' 'Reggio Calabria' 'Cagliari']\n",
      "[nan 'Veneto' 'Lombardia' 'Puglia' 'Campania' 'Liguria' 'Emilia-Romagna'\n",
      " 'Piemonte' 'Lazio' 'Sardegna' 'Toscana' 'Sicilia' 'Marche' 'Calabria']\n",
      "[nan 'Italia']\n",
      "\n",
      "All values seems plausible\n"
     ]
    }
   ],
   "source": [
    "print(\"we check birth places, regions, provinces and countrys unique values to see if they make sense\")\n",
    "print(artists[\"birth_place\"].unique())\n",
    "print(artists[\"province\"].unique())\n",
    "print(artists[\"region\"].unique())\n",
    "print(artists[\"country\"].unique())\n",
    "print(\"\\nAll values seems plausible\")"
   ]
  },
  {
   "cell_type": "markdown",
   "id": "3c6f2069",
   "metadata": {},
   "source": [
    "### Inference of artists data when possible"
   ]
  },
  {
   "cell_type": "code",
   "execution_count": 83,
   "id": "5d42899a",
   "metadata": {},
   "outputs": [
    {
     "name": "stdout",
     "output_type": "stream",
     "text": [
      "Identify rows with many missing values\n",
      "<class 'pandas.core.frame.DataFrame'>\n",
      "Index: 32 entries, ART82291002 to ART71515715\n",
      "Data columns (total 10 columns):\n",
      " #   Column        Non-Null Count  Dtype         \n",
      "---  ------        --------------  -----         \n",
      " 0   name          32 non-null     object        \n",
      " 1   gender        32 non-null     object        \n",
      " 2   birth_date    0 non-null      datetime64[ns]\n",
      " 3   birth_place   0 non-null      object        \n",
      " 4   nationality   32 non-null     object        \n",
      " 5   description   14 non-null     object        \n",
      " 6   active_start  6 non-null      datetime64[ns]\n",
      " 7   province      0 non-null      object        \n",
      " 8   region        0 non-null      object        \n",
      " 9   country       0 non-null      object        \n",
      "dtypes: datetime64[ns](2), object(8)\n",
      "memory usage: 2.8+ KB\n",
      "None\n",
      "We miss data on 32 over 104 artists (30.77%)\n"
     ]
    }
   ],
   "source": [
    "print(\"Identify rows with many missing values\")\n",
    "missing_pct = artists.isna().mean(axis=1)\n",
    "\n",
    "threshold = 0.4\n",
    "rows_with_many_missing = artists[missing_pct > threshold]\n",
    "# print(rows_with_many_missing)\n",
    "print(rows_with_many_missing.info())\n",
    "print(f\"We miss data on {len(rows_with_many_missing)} over {len(artists)} artists ({(len(rows_with_many_missing)/len(artists))*100:.2f}%)\")"
   ]
  },
  {
   "cell_type": "code",
   "execution_count": 84,
   "id": "fe0c0300",
   "metadata": {},
   "outputs": [
    {
     "name": "stdout",
     "output_type": "stream",
     "text": [
      "<class 'pandas.core.frame.DataFrame'>\n",
      "Index: 2578 entries, 70 to 10343\n",
      "Data columns (total 54 columns):\n",
      " #   Column                Non-Null Count  Dtype         \n",
      "---  ------                --------------  -----         \n",
      " 0   id_artist             2578 non-null   object        \n",
      " 1   name_artist           2578 non-null   object        \n",
      " 2   full_title            2578 non-null   object        \n",
      " 3   title                 2578 non-null   object        \n",
      " 4   featured_artists      758 non-null    object        \n",
      " 5   primary_artist        2578 non-null   object        \n",
      " 6   language              2556 non-null   object        \n",
      " 7   album                 2220 non-null   object        \n",
      " 8   stats_pageviews       835 non-null    float64       \n",
      " 9   swear_IT              2578 non-null   int64         \n",
      " 10  swear_EN              2578 non-null   int64         \n",
      " 11  swear_IT_words        2578 non-null   object        \n",
      " 12  swear_EN_words        2578 non-null   object        \n",
      " 13  year                  2476 non-null   object        \n",
      " 14  month                 2289 non-null   float64       \n",
      " 15  day                   2273 non-null   float64       \n",
      " 16  n_sentences           2578 non-null   float64       \n",
      " 17  n_tokens              2578 non-null   float64       \n",
      " 18  tokens_per_sent       2578 non-null   float64       \n",
      " 19  char_per_tok          2578 non-null   float64       \n",
      " 20  lexical_density       2578 non-null   float64       \n",
      " 21  avg_token_per_clause  2578 non-null   float64       \n",
      " 22  bpm                   2553 non-null   float64       \n",
      " 23  centroid              2553 non-null   float64       \n",
      " 24  rolloff               2553 non-null   float64       \n",
      " 25  flux                  2553 non-null   float64       \n",
      " 26  rms                   2553 non-null   float64       \n",
      " 27  zcr                   2553 non-null   float64       \n",
      " 28  flatness              2553 non-null   float64       \n",
      " 29  spectral_complexity   2553 non-null   float64       \n",
      " 30  pitch                 2553 non-null   float64       \n",
      " 31  loudness              2553 non-null   float64       \n",
      " 32  album_name            2576 non-null   object        \n",
      " 33  album_release_date    2576 non-null   object        \n",
      " 34  album_type            2576 non-null   object        \n",
      " 35  disc_number           2576 non-null   float64       \n",
      " 36  track_number          2576 non-null   float64       \n",
      " 37  duration_ms           2576 non-null   float64       \n",
      " 38  explicit              2576 non-null   object        \n",
      " 39  popularity            2578 non-null   object        \n",
      " 40  album_image           2576 non-null   object        \n",
      " 41  id_album              2576 non-null   object        \n",
      " 42  lyrics                2578 non-null   object        \n",
      " 43  modified_popularity   2578 non-null   bool          \n",
      " 44  name                  2578 non-null   object        \n",
      " 45  gender                2578 non-null   object        \n",
      " 46  birth_date            0 non-null      datetime64[ns]\n",
      " 47  birth_place           0 non-null      object        \n",
      " 48  nationality           2578 non-null   object        \n",
      " 49  description           1440 non-null   object        \n",
      " 50  active_start          553 non-null    datetime64[ns]\n",
      " 51  province              0 non-null      object        \n",
      " 52  region                0 non-null      object        \n",
      " 53  country               0 non-null      object        \n",
      "dtypes: bool(1), datetime64[ns](2), float64(22), int64(2), object(27)\n",
      "memory usage: 1.1+ MB\n",
      "None\n",
      "If we drop artists with many missing values we loose 2578 over 11166 tracks (23.09%)\n"
     ]
    }
   ],
   "source": [
    "#CHECK OF HOW MUCH DATA WE LOSE IF WE DROP THESE ROWS\n",
    "\n",
    "# print(tracks.columns)\n",
    "# print(rows_with_many_missing.columns)\n",
    "# print(artists.columns)\n",
    "\n",
    "\n",
    "merged = tracks.merge(\n",
    "    artists,\n",
    "    left_on=\"id_artist\",\n",
    "    right_on=\"id_author\",  \n",
    "    how=\"left\"\n",
    ")\n",
    "\n",
    "merged = merged[merged[\"id_artist\"].isin(rows_with_many_missing.index)]\n",
    "# print(merged[[\"id_artist\", \"name\", \"title\", \"birth_place\", \"birth_date\", \"year\"]])\n",
    "temp = merged[[\"id_artist\", \"name\", \"title\", \"birth_place\", \"birth_date\", \"year\", \"active_start\"]]\n",
    "# temp.to_csv(\"./data/temp/tracks_artists_with_many_missing.csv\", sep=';', index=False)\n",
    "# print(merged.describe())\n",
    "print(merged.info())\n",
    "print(f\"If we drop artists with many missing values we loose {len(merged)} over {len(tracks)} tracks ({(len(merged)/len(tracks))*100:.2f}%)\")\n",
    "# print(merged)"
   ]
  },
  {
   "cell_type": "code",
   "execution_count": 85,
   "id": "6ced9302",
   "metadata": {},
   "outputs": [],
   "source": [
    "# rows_with_many_missing.to_csv(\"./data/temp/artists_with_many_missing.csv\", sep=';', index=False)\n"
   ]
  },
  {
   "cell_type": "code",
   "execution_count": 86,
   "id": "e41f82a5",
   "metadata": {},
   "outputs": [],
   "source": [
    "# IMPORT MISSING VALUES FROM OUTSIDE SOURCE\n",
    "gpt = pd.read_csv(\"./data/temp/gpt_missing_artists.csv\", sep=';', index_col=0)"
   ]
  },
  {
   "cell_type": "code",
   "execution_count": 87,
   "id": "8836064d",
   "metadata": {},
   "outputs": [
    {
     "name": "stdout",
     "output_type": "stream",
     "text": [
      "<class 'pandas.core.frame.DataFrame'>\n",
      "Index: 1121 entries, 1806 to 9828\n",
      "Data columns (total 54 columns):\n",
      " #   Column                Non-Null Count  Dtype         \n",
      "---  ------                --------------  -----         \n",
      " 0   id_artist             1121 non-null   object        \n",
      " 1   name_artist           1121 non-null   object        \n",
      " 2   full_title            1121 non-null   object        \n",
      " 3   title                 1121 non-null   object        \n",
      " 4   featured_artists      312 non-null    object        \n",
      " 5   primary_artist        1121 non-null   object        \n",
      " 6   language              1108 non-null   object        \n",
      " 7   album                 1030 non-null   object        \n",
      " 8   stats_pageviews       318 non-null    float64       \n",
      " 9   swear_IT              1121 non-null   int64         \n",
      " 10  swear_EN              1121 non-null   int64         \n",
      " 11  swear_IT_words        1121 non-null   object        \n",
      " 12  swear_EN_words        1121 non-null   object        \n",
      " 13  year                  1079 non-null   object        \n",
      " 14  month                 961 non-null    float64       \n",
      " 15  day                   946 non-null    float64       \n",
      " 16  n_sentences           1121 non-null   float64       \n",
      " 17  n_tokens              1121 non-null   float64       \n",
      " 18  tokens_per_sent       1121 non-null   float64       \n",
      " 19  char_per_tok          1121 non-null   float64       \n",
      " 20  lexical_density       1121 non-null   float64       \n",
      " 21  avg_token_per_clause  1121 non-null   float64       \n",
      " 22  bpm                   1115 non-null   float64       \n",
      " 23  centroid              1115 non-null   float64       \n",
      " 24  rolloff               1115 non-null   float64       \n",
      " 25  flux                  1115 non-null   float64       \n",
      " 26  rms                   1115 non-null   float64       \n",
      " 27  zcr                   1115 non-null   float64       \n",
      " 28  flatness              1115 non-null   float64       \n",
      " 29  spectral_complexity   1115 non-null   float64       \n",
      " 30  pitch                 1115 non-null   float64       \n",
      " 31  loudness              1115 non-null   float64       \n",
      " 32  album_name            1119 non-null   object        \n",
      " 33  album_release_date    1119 non-null   object        \n",
      " 34  album_type            1119 non-null   object        \n",
      " 35  disc_number           1119 non-null   float64       \n",
      " 36  track_number          1119 non-null   float64       \n",
      " 37  duration_ms           1119 non-null   float64       \n",
      " 38  explicit              1119 non-null   object        \n",
      " 39  popularity            1121 non-null   object        \n",
      " 40  album_image           1119 non-null   object        \n",
      " 41  id_album              1119 non-null   object        \n",
      " 42  lyrics                1121 non-null   object        \n",
      " 43  modified_popularity   1121 non-null   bool          \n",
      " 44  name                  1121 non-null   object        \n",
      " 45  gender                1121 non-null   object        \n",
      " 46  birth_date            0 non-null      datetime64[ns]\n",
      " 47  birth_place           0 non-null      object        \n",
      " 48  nationality           1121 non-null   object        \n",
      " 49  description           815 non-null    object        \n",
      " 50  active_start          523 non-null    datetime64[ns]\n",
      " 51  province              0 non-null      object        \n",
      " 52  region                0 non-null      object        \n",
      " 53  country               0 non-null      object        \n",
      "dtypes: bool(1), datetime64[ns](2), float64(22), int64(2), object(27)\n",
      "memory usage: 474.0+ KB\n",
      "None\n",
      "If we drop artists still missing birth date after gpt imputation we lose 1121 over 11166 tracks (10.04%)\n"
     ]
    }
   ],
   "source": [
    "# CHECK HOW MANY ARE STILL MISSING\n",
    "\n",
    "gpt = gpt[gpt[\"birth_date\"].isna()]\n",
    "# print(gpt)\n",
    "\n",
    "merged_gpt = tracks.merge(\n",
    "    artists,\n",
    "    left_on=\"id_artist\",\n",
    "    right_on=\"id_author\",\n",
    "    how=\"left\"\n",
    ")\n",
    "\n",
    "matching_ids = artists.loc[artists[\"name\"].isin(gpt.index)].index\n",
    "# print(matching_ids)\n",
    "merged_gpt = merged_gpt[merged_gpt[\"id_artist\"].isin(matching_ids)]\n",
    "print(merged_gpt.info())\n",
    "print(f\"If we drop artists still missing birth date after gpt imputation we lose {len(merged_gpt)} over {len(tracks)} tracks ({(len(merged_gpt)/len(tracks))*100:.2f}%)\")\n",
    "# print(merged_gpt[[\"id_artist\", \"name\", \"title\", \"birth_place\", \"birth_date\", \"year\"]])\n",
    "\n",
    "# merged_gpt.to_csv(\"./data/temp/tracks_artists_gpt_missing.csv\", sep=';', index=False)"
   ]
  },
  {
   "cell_type": "code",
   "execution_count": null,
   "id": "ba5b1eec",
   "metadata": {},
   "outputs": [
    {
     "name": "stdout",
     "output_type": "stream",
     "text": [
      "We can keep rows in artists where description identify it as a group and impute missing values based on tracks release years\n",
      "<class 'pandas.core.frame.DataFrame'>\n",
      "Index: 310 entries, 1983 to 9796\n",
      "Data columns (total 54 columns):\n",
      " #   Column                Non-Null Count  Dtype         \n",
      "---  ------                --------------  -----         \n",
      " 0   id_artist             310 non-null    object        \n",
      " 1   name_artist           310 non-null    object        \n",
      " 2   full_title            310 non-null    object        \n",
      " 3   title                 310 non-null    object        \n",
      " 4   featured_artists      83 non-null     object        \n",
      " 5   primary_artist        310 non-null    object        \n",
      " 6   language              305 non-null    object        \n",
      " 7   album                 256 non-null    object        \n",
      " 8   stats_pageviews       36 non-null     float64       \n",
      " 9   swear_IT              310 non-null    int64         \n",
      " 10  swear_EN              310 non-null    int64         \n",
      " 11  swear_IT_words        310 non-null    object        \n",
      " 12  swear_EN_words        310 non-null    object        \n",
      " 13  year                  302 non-null    object        \n",
      " 14  month                 300 non-null    float64       \n",
      " 15  day                   299 non-null    float64       \n",
      " 16  n_sentences           310 non-null    float64       \n",
      " 17  n_tokens              310 non-null    float64       \n",
      " 18  tokens_per_sent       310 non-null    float64       \n",
      " 19  char_per_tok          310 non-null    float64       \n",
      " 20  lexical_density       310 non-null    float64       \n",
      " 21  avg_token_per_clause  310 non-null    float64       \n",
      " 22  bpm                   305 non-null    float64       \n",
      " 23  centroid              305 non-null    float64       \n",
      " 24  rolloff               305 non-null    float64       \n",
      " 25  flux                  305 non-null    float64       \n",
      " 26  rms                   305 non-null    float64       \n",
      " 27  zcr                   305 non-null    float64       \n",
      " 28  flatness              305 non-null    float64       \n",
      " 29  spectral_complexity   305 non-null    float64       \n",
      " 30  pitch                 305 non-null    float64       \n",
      " 31  loudness              305 non-null    float64       \n",
      " 32  album_name            310 non-null    object        \n",
      " 33  album_release_date    310 non-null    object        \n",
      " 34  album_type            310 non-null    object        \n",
      " 35  disc_number           310 non-null    float64       \n",
      " 36  track_number          310 non-null    float64       \n",
      " 37  duration_ms           310 non-null    float64       \n",
      " 38  explicit              310 non-null    object        \n",
      " 39  popularity            310 non-null    object        \n",
      " 40  album_image           310 non-null    object        \n",
      " 41  id_album              310 non-null    object        \n",
      " 42  lyrics                310 non-null    object        \n",
      " 43  modified_popularity   310 non-null    bool          \n",
      " 44  name                  310 non-null    object        \n",
      " 45  gender                310 non-null    object        \n",
      " 46  birth_date            0 non-null      datetime64[ns]\n",
      " 47  birth_place           0 non-null      object        \n",
      " 48  nationality           310 non-null    object        \n",
      " 49  description           4 non-null      object        \n",
      " 50  active_start          0 non-null      datetime64[ns]\n",
      " 51  province              0 non-null      object        \n",
      " 52  region                0 non-null      object        \n",
      " 53  country               0 non-null      object        \n",
      "dtypes: bool(1), datetime64[ns](2), float64(22), int64(2), object(27)\n",
      "memory usage: 131.1+ KB\n",
      "None\n",
      "If we drop artists still missing birth date after gpt imputation we lose 310 over 11166 tracks (2.78%)\n",
      "        id_artist           name              title birth_place birth_date  \\\n",
      "1983  ART59593021        hindaco              Cocco         NaN        NaT   \n",
      "1984  ART59593021        hindaco               Buio         NaN        NaT   \n",
      "1985  ART59593021        hindaco      In The Jungle         NaN        NaT   \n",
      "2403  ART51628788  miss simpatia         Ciao Fibra         NaN        NaT   \n",
      "2404  ART51628788  miss simpatia  Lo Faccio Apposta         NaN        NaT   \n",
      "...           ...            ...                ...         ...        ...   \n",
      "9452  ART56967402   samuel heron            CARMELA         NaN        NaT   \n",
      "9453  ART56967402   samuel heron        SIAM PIRATI         NaN        NaT   \n",
      "9794  ART88199433    joey funboy          Instabile         NaN        NaT   \n",
      "9795  ART88199433    joey funboy             Dovrai         NaN        NaT   \n",
      "9796  ART88199433    joey funboy        La Rockstar         NaN        NaT   \n",
      "\n",
      "        year  \n",
      "1983  2019.0  \n",
      "1984    2080  \n",
      "1985  2019.0  \n",
      "2403  2007.0  \n",
      "2404     NaN  \n",
      "...      ...  \n",
      "9452    1964  \n",
      "9453  2025.0  \n",
      "9794  2016.0  \n",
      "9795    1919  \n",
      "9796  2019.0  \n",
      "\n",
      "[310 rows x 6 columns]\n"
     ]
    }
   ],
   "source": [
    "print(\"We can keep rows in artists where description identify it as a group and impute missing values based on tracks release years\")\n",
    "\n",
    "group_ids = artists[artists[\"description\"].str.contains(\"gruppo musicale\", case=False, na=False)].index\n",
    "# print(group_ids)\n",
    "matching_ids = matching_ids[~matching_ids.isin(group_ids)]\n",
    "# print(matching_ids)\n",
    "\n",
    "merged_gpt = merged_gpt[merged_gpt[\"id_artist\"].isin(matching_ids)]\n",
    "print(merged_gpt.info())\n",
    "print(f\"If we drop artists still missing birth date after gpt imputation we lose {len(merged_gpt)} over {len(tracks)} tracks ({(len(merged_gpt)/len(tracks))*100:.2f}%)\")\n"
   ]
  },
  {
   "cell_type": "markdown",
   "id": "94ee9694",
   "metadata": {},
   "source": [
    "## ARTISTS STATS AND DISTR"
   ]
  },
  {
   "cell_type": "code",
   "execution_count": 89,
   "id": "50aa949f",
   "metadata": {},
   "outputs": [
    {
     "name": "stdout",
     "output_type": "stream",
     "text": [
      "count         72\n",
      "unique        40\n",
      "top       Milano\n",
      "freq          15\n",
      "Name: birth_place, dtype: object\n"
     ]
    }
   ],
   "source": [
    "print(artists['birth_place'].describe())"
   ]
  },
  {
   "cell_type": "code",
   "execution_count": 90,
   "id": "c590a0d0",
   "metadata": {},
   "outputs": [
    {
     "data": {
      "image/png": "[encoded data removed]",
      "text/plain": [
       "<Figure size 1000x600 with 1 Axes>"
      ]
     },
     "metadata": {},
     "output_type": "display_data"
    }
   ],
   "source": [
    "counts = (\n",
    "    artists.groupby(['birth_place', 'birth_date'])\n",
    "    .size()\n",
    "    .reset_index(name='count')\n",
    ")\n",
    "\n",
    "plt.figure(figsize=(10,6))\n",
    "plt.scatter(\n",
    "    counts['birth_place'], \n",
    "    counts['birth_date'], \n",
    "    s=(counts['count'] ** 2) * 50,  # scale up sizes for visibility\n",
    "    alpha=0.6, \n",
    "    edgecolor='k'\n",
    ")\n",
    "\n",
    "plt.xlabel('Birth Place')\n",
    "plt.xticks(rotation=45, ha='right')\n",
    "plt.ylabel('Birth Year')\n",
    "plt.title('Birth Places vs Birth Years (Bubble Size = Number of People)')\n",
    "plt.grid(True, linestyle='--', alpha=0.4)\n",
    "plt.show()\n"
   ]
  },
  {
   "cell_type": "markdown",
   "id": "756dd853",
   "metadata": {},
   "source": [
    "# STUDY OF THE LYRICS"
   ]
  },
  {
   "cell_type": "code",
   "execution_count": 91,
   "id": "aff161d4",
   "metadata": {},
   "outputs": [
    {
     "name": "stdout",
     "output_type": "stream",
     "text": [
      "STATISTICHE DESCRITTIVE DELLE METRICHE LYRICS\n",
      "\n",
      "1. N_SENTENCES - Numero di frasi nelle lyrics\n",
      "count    11090.000000\n",
      "mean        59.399639\n",
      "std         24.711996\n",
      "min          1.000000\n",
      "25%         46.000000\n",
      "50%         58.000000\n",
      "75%         73.000000\n",
      "max        437.000000\n",
      "Name: n_sentences, dtype: float64\n",
      "\n",
      "2. N_TOKENS - Numero di parole (token) nelle lyrics\n",
      "count    11090.000000\n",
      "mean       496.891253\n",
      "std        209.187612\n",
      "min          3.000000\n",
      "25%        372.000000\n",
      "50%        491.000000\n",
      "75%        615.000000\n",
      "max       3089.000000\n",
      "Name: n_tokens, dtype: float64\n",
      "0.01     10.00\n",
      "0.02     65.78\n",
      "0.03    118.67\n",
      "0.04    147.00\n",
      "0.05    167.00\n",
      "Name: n_tokens, dtype: float64\n",
      "\n",
      "3. TOKENS_PER_SENT - Media di parole per frase\n",
      "count    11090.000000\n",
      "mean         8.672152\n",
      "std          5.675602\n",
      "min          1.500000\n",
      "25%          7.333333\n",
      "50%          8.404762\n",
      "75%          9.431527\n",
      "max        400.000000\n",
      "Name: tokens_per_sent, dtype: float64\n",
      "\n",
      "4. CHAR_PER_TOK - Media di caratteri per parola (lunghezza media parola)\n",
      "count    11090.000000\n",
      "mean         4.054416\n",
      "std          0.445958\n",
      "min          2.000000\n",
      "25%          3.866946\n",
      "50%          4.012709\n",
      "75%          4.168686\n",
      "max         12.000000\n",
      "Name: char_per_tok, dtype: float64\n",
      "\n",
      "5. LEXICAL_DENSITY - Densità lessicale (parole uniche / parole totali)\n",
      "count    11090.000000\n",
      "mean         0.514367\n",
      "std          0.061583\n",
      "min          0.000000\n",
      "25%          0.482353\n",
      "50%          0.511719\n",
      "75%          0.542450\n",
      "max          1.000000\n",
      "Name: lexical_density, dtype: float64\n",
      "\n",
      "6. AVG_TOKEN_PER_CLAUSE - Media di parole per clausola (proposizione)\n",
      "count    11090.000000\n",
      "mean         8.002009\n",
      "std         14.577876\n",
      "min          0.000000\n",
      "25%          5.859020\n",
      "50%          6.764171\n",
      "75%          8.090909\n",
      "max        660.000000\n",
      "Name: avg_token_per_clause, dtype: float64\n"
     ]
    }
   ],
   "source": [
    "# Statistiche descrittive delle metriche linguistiche calcolate\n",
    "\n",
    "print(\"STATISTICHE DESCRITTIVE DELLE METRICHE LYRICS\")\n",
    "\n",
    "print(\"\\n1. N_SENTENCES - Numero di frasi nelle lyrics\")\n",
    "print(tracks.n_sentences.describe())\n",
    "\n",
    "print(\"\\n2. N_TOKENS - Numero di parole (token) nelle lyrics\")\n",
    "print(tracks.n_tokens.describe())\n",
    "print(tracks['n_tokens'].quantile([0.01, 0.02, 0.03, 0.04, 0.05]))\n",
    "\n",
    "print(\"\\n3. TOKENS_PER_SENT - Media di parole per frase\")\n",
    "print(tracks.tokens_per_sent.describe())\n",
    "\n",
    "print(\"\\n4. CHAR_PER_TOK - Media di caratteri per parola (lunghezza media parola)\")\n",
    "print(tracks.char_per_tok.describe())\n",
    "\n",
    "print(\"\\n5. LEXICAL_DENSITY - Densità lessicale (parole uniche / parole totali)\")\n",
    "print(tracks.lexical_density.describe())\n",
    "\n",
    "print(\"\\n6. AVG_TOKEN_PER_CLAUSE - Media di parole per clausola (proposizione)\")\n",
    "print(tracks.avg_token_per_clause.describe())\n",
    "\n"
   ]
  },
  {
   "cell_type": "code",
   "execution_count": 92,
   "id": "b3a3c965",
   "metadata": {},
   "outputs": [],
   "source": [
    "# raw_tracks.to_csv(\"./data/temp/prova.csv\", sep=';')"
   ]
  }
 ],
 "metadata": {
  "kernelspec": {
   "display_name": "venv",
   "language": "python",
   "name": "python3"
  },
  "language_info": {
   "codemirror_mode": {
    "name": "ipython",
    "version": 3
   },
   "file_extension": ".py",
   "mimetype": "text/x-python",
   "name": "python",
   "nbconvert_exporter": "python",
   "pygments_lexer": "ipython3",
   "version": "3.12.6"
  }
 },
 "nbformat": 4,
 "nbformat_minor": 5
}
